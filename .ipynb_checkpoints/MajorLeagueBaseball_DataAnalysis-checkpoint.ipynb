{
 "cells": [
  {
   "cell_type": "markdown",
   "id": "5f146aaa-6b75-4e55-9c27-3b4e541ed7e1",
   "metadata": {
    "collapsed": true,
    "jupyter": {
     "outputs_hidden": true
    }
   },
   "source": [
    "# Data Analysis - Major League Baseball Data"
   ]
  },
  {
   "cell_type": "markdown",
   "id": "6e3000f2-ff26-424d-9f23-a13b21afedbc",
   "metadata": {},
   "source": [
    "## Series"
   ]
  },
  {
   "cell_type": "code",
   "execution_count": 1,
   "id": "d81004d5-6acf-4cba-85d9-fbb8655f4958",
   "metadata": {},
   "outputs": [
    {
     "name": "stdout",
     "output_type": "stream",
     "text": [
      "Series([], dtype: float64)\n",
      "\n"
     ]
    }
   ],
   "source": [
    "import pandas as pd\n",
    "import numpy as np\n",
    "\n",
    "# Creating an empty series, will result in DeprecationWarning\n",
    "#series = pd.Series()\n",
    "\n",
    "# Passing dtype as a parameter to Series for an empty series to avoid DeprecationWarning\n",
    "# Creating an empty series\n",
    "series = pd.Series(dtype='float64')\n",
    "# Newline to separate series print statements\n",
    "print('{}\\n'.format(series))\n"
   ]
  },
  {
   "cell_type": "code",
   "execution_count": 4,
   "id": "cc56385b-aa16-403b-96c9-4243a82356e5",
   "metadata": {},
   "outputs": [
    {
     "name": "stdout",
     "output_type": "stream",
     "text": [
      "0    5\n",
      "dtype: int64\n",
      "\n"
     ]
    }
   ],
   "source": [
    "series = pd.Series(5)\n",
    "print('{}\\n'.format(series))"
   ]
  },
  {
   "cell_type": "code",
   "execution_count": 5,
   "id": "e56a8bb6-0651-4588-8add-3c2f0f649bf7",
   "metadata": {},
   "outputs": [
    {
     "name": "stdout",
     "output_type": "stream",
     "text": [
      "0    1\n",
      "1    2\n",
      "2    3\n",
      "dtype: int64\n",
      "\n"
     ]
    }
   ],
   "source": [
    "series = pd.Series([1, 2, 3])\n",
    "print('{}\\n'.format(series))"
   ]
  },
  {
   "cell_type": "code",
   "execution_count": 6,
   "id": "441ca656-198a-424a-a052-2d966e77d98b",
   "metadata": {},
   "outputs": [
    {
     "name": "stdout",
     "output_type": "stream",
     "text": [
      "0    1.0\n",
      "1    2.2\n",
      "dtype: float64\n",
      "\n"
     ]
    }
   ],
   "source": [
    "series = pd.Series([1, 2.2]) # upcasting\n",
    "print('{}\\n'.format(series))"
   ]
  },
  {
   "cell_type": "code",
   "execution_count": 7,
   "id": "b418e427-38c5-4606-a82f-ce1f51ec41b8",
   "metadata": {},
   "outputs": [
    {
     "name": "stdout",
     "output_type": "stream",
     "text": [
      "0    1.0\n",
      "1    2.0\n",
      "dtype: float32\n",
      "\n"
     ]
    }
   ],
   "source": [
    "arr = np.array([1, 2])\n",
    "series = pd.Series(arr, dtype=np.float32)\n",
    "print('{}\\n'.format(series))"
   ]
  },
  {
   "cell_type": "code",
   "execution_count": 8,
   "id": "d2960466-36f4-4b65-9a47-b3026c3d1051",
   "metadata": {},
   "outputs": [
    {
     "name": "stdout",
     "output_type": "stream",
     "text": [
      "0    [1, 2]\n",
      "1    [3, 4]\n",
      "dtype: object\n",
      "\n",
      "0       Vee\n",
      "1      Pree\n",
      "2    Fluffy\n",
      "dtype: object\n",
      "\n"
     ]
    }
   ],
   "source": [
    "series = pd.Series([[1, 2], [3, 4]])\n",
    "print('{}\\n'.format(series))\n",
    "\n",
    "series = pd.Series([\"Vee\",\"Pree\",\"Fluffy\"])\n",
    "print('{}\\n'.format(series))"
   ]
  },
  {
   "cell_type": "code",
   "execution_count": 9,
   "id": "30563b01-2959-43c4-966b-f1081f79be35",
   "metadata": {},
   "outputs": [
    {
     "name": "stdout",
     "output_type": "stream",
     "text": [
      "1    Albert\n",
      "2      Duke\n",
      "3     Jerry\n",
      "dtype: object \n",
      "\n"
     ]
    }
   ],
   "source": [
    "# custom indexing\n",
    "series = pd.Series([\"Albert\",\"Duke\",\"Jerry\"],index=[1,2,3])\n",
    "print('{} \\n'.format(series))"
   ]
  },
  {
   "cell_type": "code",
   "execution_count": 10,
   "id": "d817545d-0665-4f00-a6f2-fd0b6ea04edd",
   "metadata": {},
   "outputs": [
    {
     "name": "stdout",
     "output_type": "stream",
     "text": [
      "a      1\n",
      "8      2\n",
      "0.3    3\n",
      "dtype: int64\n",
      "\n"
     ]
    }
   ],
   "source": [
    "#index can be made of any static type\n",
    "series = pd.Series([1, 2, 3], index=['a', 8, 0.3])\n",
    "print('{}\\n'.format(series))"
   ]
  },
  {
   "cell_type": "markdown",
   "id": "a7a2eb64-7132-4429-8f70-c91320850c43",
   "metadata": {},
   "source": [
    "### Exercise"
   ]
  },
  {
   "cell_type": "code",
   "execution_count": 11,
   "id": "0b7f439e-4b1a-4306-89e1-581bee2627f9",
   "metadata": {},
   "outputs": [
    {
     "name": "stdout",
     "output_type": "stream",
     "text": [
      "0    1.0\n",
      "1    3.0\n",
      "2    5.2\n",
      "dtype: float64\n",
      "\n",
      "0    0.10\n",
      "1    0.60\n",
      "2    1.56\n",
      "dtype: float64\n",
      "\n",
      "a    1.0\n",
      "b    3.0\n",
      "c    8.0\n",
      "d    NaN\n",
      "dtype: float64\n",
      "\n",
      "a    0\n",
      "b    1\n",
      "c    2\n",
      "dtype: int64\n",
      "\n"
     ]
    }
   ],
   "source": [
    "s1 = pd.Series([1,3,5.2])\n",
    "print('{}\\n'.format(s1))\n",
    "\n",
    "s2 = s1 * pd.Series([0.1,0.2,0.3])\n",
    "print('{}\\n'.format(s2))\n",
    "\n",
    "s3 = pd.Series([1,3,8,np.nan],index = ['a', 'b', 'c', 'd'])\n",
    "print('{}\\n'.format(s3))\n",
    "\n",
    "s4 = pd.Series({'a':0 , 'b':1 , 'c':2})\n",
    "print('{}\\n'.format(s4))\n"
   ]
  },
  {
   "cell_type": "code",
   "execution_count": null,
   "id": "139e446b-973e-43b5-ace2-08d0ddfd5d21",
   "metadata": {},
   "outputs": [],
   "source": []
  }
 ],
 "metadata": {
  "kernelspec": {
   "display_name": "Python 3 (ipykernel)",
   "language": "python",
   "name": "python3"
  },
  "language_info": {
   "codemirror_mode": {
    "name": "ipython",
    "version": 3
   },
   "file_extension": ".py",
   "mimetype": "text/x-python",
   "name": "python",
   "nbconvert_exporter": "python",
   "pygments_lexer": "ipython3",
   "version": "3.11.7"
  }
 },
 "nbformat": 4,
 "nbformat_minor": 5
}
