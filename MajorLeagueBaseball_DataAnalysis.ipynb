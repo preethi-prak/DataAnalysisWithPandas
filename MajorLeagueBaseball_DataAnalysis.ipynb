{
 "cells": [
  {
   "cell_type": "markdown",
   "id": "5f146aaa-6b75-4e55-9c27-3b4e541ed7e1",
   "metadata": {
    "collapsed": true,
    "jupyter": {
     "outputs_hidden": true
    }
   },
   "source": [
    "# Data Analysis - Major League Baseball Data"
   ]
  },
  {
   "cell_type": "markdown",
   "id": "6e3000f2-ff26-424d-9f23-a13b21afedbc",
   "metadata": {},
   "source": [
    "## Series"
   ]
  },
  {
   "cell_type": "code",
   "execution_count": 87,
   "id": "d81004d5-6acf-4cba-85d9-fbb8655f4958",
   "metadata": {},
   "outputs": [
    {
     "name": "stdout",
     "output_type": "stream",
     "text": [
      "Series([], dtype: float64)\n",
      "\n"
     ]
    }
   ],
   "source": [
    "import pandas as pd\n",
    "import numpy as np\n",
    "\n",
    "# Creating an empty series, will result in DeprecationWarning\n",
    "#series = pd.Series()\n",
    "\n",
    "# Passing dtype as a parameter to Series for an empty series to avoid DeprecationWarning\n",
    "# Creating an empty series\n",
    "series = pd.Series(dtype='float64')\n",
    "# Newline to separate series print statements\n",
    "print('{}\\n'.format(series))\n"
   ]
  },
  {
   "cell_type": "code",
   "execution_count": 88,
   "id": "cc56385b-aa16-403b-96c9-4243a82356e5",
   "metadata": {},
   "outputs": [
    {
     "name": "stdout",
     "output_type": "stream",
     "text": [
      "0    5\n",
      "dtype: int64\n",
      "\n"
     ]
    }
   ],
   "source": [
    "series = pd.Series(5)\n",
    "print('{}\\n'.format(series))"
   ]
  },
  {
   "cell_type": "code",
   "execution_count": 89,
   "id": "e56a8bb6-0651-4588-8add-3c2f0f649bf7",
   "metadata": {},
   "outputs": [
    {
     "name": "stdout",
     "output_type": "stream",
     "text": [
      "0    1\n",
      "1    2\n",
      "2    3\n",
      "dtype: int64\n",
      "\n"
     ]
    }
   ],
   "source": [
    "series = pd.Series([1, 2, 3])\n",
    "print('{}\\n'.format(series))"
   ]
  },
  {
   "cell_type": "code",
   "execution_count": 90,
   "id": "441ca656-198a-424a-a052-2d966e77d98b",
   "metadata": {},
   "outputs": [
    {
     "name": "stdout",
     "output_type": "stream",
     "text": [
      "0    1.0\n",
      "1    2.2\n",
      "dtype: float64\n",
      "\n"
     ]
    }
   ],
   "source": [
    "series = pd.Series([1, 2.2]) # upcasting\n",
    "print('{}\\n'.format(series))"
   ]
  },
  {
   "cell_type": "code",
   "execution_count": 91,
   "id": "b418e427-38c5-4606-a82f-ce1f51ec41b8",
   "metadata": {},
   "outputs": [
    {
     "name": "stdout",
     "output_type": "stream",
     "text": [
      "0    1.0\n",
      "1    2.0\n",
      "dtype: float32\n",
      "\n"
     ]
    }
   ],
   "source": [
    "arr = np.array([1, 2])\n",
    "series = pd.Series(arr, dtype=np.float32)\n",
    "print('{}\\n'.format(series))"
   ]
  },
  {
   "cell_type": "code",
   "execution_count": 92,
   "id": "d2960466-36f4-4b65-9a47-b3026c3d1051",
   "metadata": {},
   "outputs": [
    {
     "name": "stdout",
     "output_type": "stream",
     "text": [
      "0    [1, 2]\n",
      "1    [3, 4]\n",
      "dtype: object\n",
      "\n",
      "0       Vee\n",
      "1      Pree\n",
      "2    Fluffy\n",
      "dtype: object\n",
      "\n"
     ]
    }
   ],
   "source": [
    "series = pd.Series([[1, 2], [3, 4]])\n",
    "print('{}\\n'.format(series))\n",
    "\n",
    "series = pd.Series([\"Vee\",\"Pree\",\"Fluffy\"])\n",
    "print('{}\\n'.format(series))"
   ]
  },
  {
   "cell_type": "code",
   "execution_count": 93,
   "id": "30563b01-2959-43c4-966b-f1081f79be35",
   "metadata": {},
   "outputs": [
    {
     "name": "stdout",
     "output_type": "stream",
     "text": [
      "1    Albert\n",
      "2      Duke\n",
      "3     Jerry\n",
      "dtype: object \n",
      "\n"
     ]
    }
   ],
   "source": [
    "# custom indexing\n",
    "series = pd.Series([\"Albert\",\"Duke\",\"Jerry\"],index=[1,2,3])\n",
    "print('{} \\n'.format(series))"
   ]
  },
  {
   "cell_type": "code",
   "execution_count": 94,
   "id": "d817545d-0665-4f00-a6f2-fd0b6ea04edd",
   "metadata": {},
   "outputs": [
    {
     "name": "stdout",
     "output_type": "stream",
     "text": [
      "a      1\n",
      "8      2\n",
      "0.3    3\n",
      "dtype: int64\n",
      "\n"
     ]
    }
   ],
   "source": [
    "#index can be made of any static type\n",
    "series = pd.Series([1, 2, 3], index=['a', 8, 0.3])\n",
    "print('{}\\n'.format(series))"
   ]
  },
  {
   "cell_type": "markdown",
   "id": "a7a2eb64-7132-4429-8f70-c91320850c43",
   "metadata": {},
   "source": [
    "### Exercise"
   ]
  },
  {
   "cell_type": "code",
   "execution_count": 95,
   "id": "0b7f439e-4b1a-4306-89e1-581bee2627f9",
   "metadata": {},
   "outputs": [
    {
     "name": "stdout",
     "output_type": "stream",
     "text": [
      "0    1.0\n",
      "1    3.0\n",
      "2    5.2\n",
      "dtype: float64\n",
      "\n",
      "0    0.10\n",
      "1    0.60\n",
      "2    1.56\n",
      "dtype: float64\n",
      "\n",
      "a    1.0\n",
      "b    3.0\n",
      "c    8.0\n",
      "d    NaN\n",
      "dtype: float64\n",
      "\n",
      "a    0\n",
      "b    1\n",
      "c    2\n",
      "dtype: int64\n",
      "\n"
     ]
    }
   ],
   "source": [
    "s1 = pd.Series([1,3,5.2])\n",
    "print('{}\\n'.format(s1))\n",
    "\n",
    "s2 = s1 * pd.Series([0.1,0.2,0.3])\n",
    "print('{}\\n'.format(s2))\n",
    "\n",
    "s3 = pd.Series([1,3,8,np.nan],index = ['a', 'b', 'c', 'd'])\n",
    "print('{}\\n'.format(s3))\n",
    "\n",
    "s4 = pd.Series({'a':0 , 'b':1 , 'c':2})\n",
    "print('{}\\n'.format(s4))\n"
   ]
  },
  {
   "cell_type": "markdown",
   "id": "de6c3c07-ec95-46fe-af72-3cdd9f82d6ae",
   "metadata": {},
   "source": [
    "## DataFrame"
   ]
  },
  {
   "cell_type": "code",
   "execution_count": 96,
   "id": "2a0b9759-7ea9-4e3c-9ddb-c98e71dc61d5",
   "metadata": {},
   "outputs": [],
   "source": [
    "df = pd.DataFrame()"
   ]
  },
  {
   "cell_type": "code",
   "execution_count": 97,
   "id": "3616b992-1c3d-49cf-b54d-1ecbf968bc58",
   "metadata": {},
   "outputs": [
    {
     "name": "stdout",
     "output_type": "stream",
     "text": [
      "   0\n",
      "0  1\n",
      "1  2\n",
      "2  3\n",
      "\n"
     ]
    }
   ],
   "source": [
    "df = pd.DataFrame([1,2,3])\n",
    "print('{}\\n'.format(df))"
   ]
  },
  {
   "cell_type": "code",
   "execution_count": 98,
   "id": "ef720d4c-174a-449e-adfe-460708726605",
   "metadata": {},
   "outputs": [
    {
     "name": "stdout",
     "output_type": "stream",
     "text": [
      "   0  1  2\n",
      "0  1  2  3\n",
      "\n"
     ]
    }
   ],
   "source": [
    "df = pd.DataFrame([[1,2,3]])\n",
    "print('{}\\n'.format(df))"
   ]
  },
  {
   "cell_type": "code",
   "execution_count": 99,
   "id": "a3f5dc4f-e96d-4fed-a005-79a849d82ffc",
   "metadata": {},
   "outputs": [
    {
     "name": "stdout",
     "output_type": "stream",
     "text": [
      "    c1  c2\n",
      "r1   1   2\n",
      "r2   5   6\n",
      "\n"
     ]
    }
   ],
   "source": [
    "df = pd.DataFrame([[1,2],[5,6]],columns =['c1','c2'] , index =['r1','r2'])\n",
    "print('{}\\n'.format(df))"
   ]
  },
  {
   "cell_type": "code",
   "execution_count": 100,
   "id": "233b5476-50bc-42d4-9577-9111f751325c",
   "metadata": {},
   "outputs": [
    {
     "name": "stdout",
     "output_type": "stream",
     "text": [
      "    c1  c2\n",
      "r1   1   4\n",
      "r2   2   5\n",
      "\n"
     ]
    }
   ],
   "source": [
    "df = pd.DataFrame({'c1':[1,2],'c2':[4,5]},index=['r1','r2'])\n",
    "print('{}\\n'.format(df))"
   ]
  },
  {
   "cell_type": "markdown",
   "id": "d5aefabf-e40b-403a-addc-f2a32c3369db",
   "metadata": {},
   "source": [
    "### Upcasting Dataframe"
   ]
  },
  {
   "cell_type": "code",
   "execution_count": 101,
   "id": "d4382697-1557-432a-bde5-5d2c922cdbe6",
   "metadata": {},
   "outputs": [],
   "source": [
    "upcast = pd.DataFrame([[5, 6], [1.2, 3]])"
   ]
  },
  {
   "cell_type": "code",
   "execution_count": 102,
   "id": "0e958ae6-c086-4968-8a58-aae65a778204",
   "metadata": {},
   "outputs": [
    {
     "name": "stdout",
     "output_type": "stream",
     "text": [
      "     0  1\n",
      "0  5.0  6\n",
      "1  1.2  3\n",
      "\n",
      "\n",
      " 0    float64\n",
      "1      int64\n",
      "dtype: object\n"
     ]
    }
   ],
   "source": [
    "print('{}\\n'.format(upcast))\n",
    "print('\\n',upcast.dtypes)"
   ]
  },
  {
   "cell_type": "code",
   "execution_count": 103,
   "id": "fa08cf9f-a41b-4f0e-a317-807d7691eba7",
   "metadata": {},
   "outputs": [],
   "source": [
    "df = pd.DataFrame([[5, 6], [1.2, 3]])\n",
    "ser = pd.Series([0, 0], name='r3')\n",
    "\n",
    "#df_app = df.append(ser)\n",
    "#print('{}\\n'.format(df_app))"
   ]
  },
  {
   "cell_type": "markdown",
   "id": "cd9b4552-779f-41f8-bdbc-2669a8977e47",
   "metadata": {},
   "source": [
    "### Concatinating DataFrame"
   ]
  },
  {
   "cell_type": "code",
   "execution_count": 104,
   "id": "950686e2-4afd-48b4-963c-09e1eb2783f7",
   "metadata": {},
   "outputs": [
    {
     "name": "stdout",
     "output_type": "stream",
     "text": [
      "     0    1\n",
      "0  5.0  6.0\n",
      "1  1.2  3.0\n",
      "2  0.0  NaN\n",
      "3  0.0  NaN\n",
      "\n"
     ]
    }
   ],
   "source": [
    "\n",
    "df = pd.DataFrame([[5, 6], [1.2, 3]])\n",
    "ser = pd.Series([0, 0], name='r3')\n",
    "\n",
    "df_app = pd.concat([df,ser],ignore_index = True)\n",
    "print('{}\\n'.format(df_app))"
   ]
  },
  {
   "cell_type": "code",
   "execution_count": 105,
   "id": "e24faba8-1c26-4649-ae51-7693f2975cdc",
   "metadata": {},
   "outputs": [
    {
     "name": "stdout",
     "output_type": "stream",
     "text": [
      "     0    1\n",
      "0  5.0  6.0\n",
      "1  1.2  3.0\n",
      "2  0.0  NaN\n",
      "3  0.0  NaN\n",
      "0  0.0  0.0\n",
      "1  9.0  9.0\n",
      "\n"
     ]
    }
   ],
   "source": [
    "df2 = pd.DataFrame([[0,0],[9,9]])\n",
    "df_app = pd.concat([df_app,df2])\n",
    "print('{}\\n'.format(df_app))\n",
    "\n"
   ]
  },
  {
   "cell_type": "markdown",
   "id": "1cb11b2a-89bd-4892-9c65-a424806a9607",
   "metadata": {},
   "source": [
    "### Dropping Data"
   ]
  },
  {
   "cell_type": "code",
   "execution_count": 106,
   "id": "1d300893-cb3e-46e7-83e4-c5c5da51754d",
   "metadata": {},
   "outputs": [
    {
     "name": "stdout",
     "output_type": "stream",
     "text": [
      "    c1  c2  c3\n",
      "r1   1   3   5\n",
      "r2   2   4   6\n",
      "\n"
     ]
    }
   ],
   "source": [
    "df = pd.DataFrame({'c1': [1, 2], 'c2': [3, 4],\n",
    "                   'c3': [5, 6]},\n",
    "                  index=['r1', 'r2'])\n",
    "print('{}\\n'.format(df))\n"
   ]
  },
  {
   "cell_type": "code",
   "execution_count": 107,
   "id": "be319871-98a8-4ffc-b31b-8d7803bc3ebd",
   "metadata": {},
   "outputs": [
    {
     "name": "stdout",
     "output_type": "stream",
     "text": [
      "    c1  c2  c3\n",
      "r2   2   4   6\n",
      "\n"
     ]
    }
   ],
   "source": [
    "df_drop = df.drop(labels='r1')\n",
    "print('{}\\n'.format(df_drop))\n"
   ]
  },
  {
   "cell_type": "code",
   "execution_count": 108,
   "id": "09e8c4ad-f215-4f0c-8aa1-514572f9cea4",
   "metadata": {},
   "outputs": [
    {
     "name": "stdout",
     "output_type": "stream",
     "text": [
      "    c2\n",
      "r1   3\n",
      "r2   4\n",
      "\n"
     ]
    }
   ],
   "source": [
    "\n",
    "# Drop columns c1, c3\n",
    "df_drop = df.drop(labels=['c1', 'c3'], axis=1)\n",
    "print('{}\\n'.format(df_drop))\n"
   ]
  },
  {
   "cell_type": "code",
   "execution_count": 109,
   "id": "57ff87ca-758e-4f43-94dd-82c6d3b0371c",
   "metadata": {},
   "outputs": [
    {
     "name": "stdout",
     "output_type": "stream",
     "text": [
      "    c1  c3\n",
      "r1   1   5\n",
      "r2   2   6\n",
      "\n"
     ]
    }
   ],
   "source": [
    "\n",
    "\n",
    "df_drop = df.drop(columns='c2')\n",
    "print('{}\\n'.format(df_drop))\n"
   ]
  },
  {
   "cell_type": "code",
   "execution_count": 110,
   "id": "7cb1f2a6-362a-4bcf-b9e4-04752aa991bd",
   "metadata": {},
   "outputs": [
    {
     "name": "stdout",
     "output_type": "stream",
     "text": [
      "    c1  c3\n",
      "r1   1   5\n",
      "r2   2   6\n",
      "\n"
     ]
    }
   ],
   "source": [
    "\n",
    "df.drop(index='r2', columns='c2')\n",
    "print('{}\\n'.format(df_drop))"
   ]
  },
  {
   "cell_type": "code",
   "execution_count": 111,
   "id": "5702b1a3-e9cf-4da5-94bc-42776123d926",
   "metadata": {},
   "outputs": [
    {
     "name": "stdout",
     "output_type": "stream",
     "text": [
      "    c1  c2\n",
      "r1   0   5\n",
      "r2   1   6\n",
      "r3   2   7\n",
      "r4   3   8\n",
      "\n"
     ]
    }
   ],
   "source": [
    "df =pd.DataFrame({'c1':[0,1,2,3],'c2':[5,6,7,8]},index=['r1', 'r2', 'r3', 'r4'])\n",
    "print('{}\\n'.format(df))"
   ]
  },
  {
   "cell_type": "code",
   "execution_count": 112,
   "id": "c2615600-0adc-42c0-88c9-20929f9179a8",
   "metadata": {},
   "outputs": [
    {
     "name": "stdout",
     "output_type": "stream",
     "text": [
      "    c1  c2\n",
      "r5   9   9\n",
      "\n"
     ]
    }
   ],
   "source": [
    "row_df =  pd.DataFrame([[9,9]],columns=['c1', 'c2'],index=['r5'])\n",
    "print('{}\\n'.format(row_df))"
   ]
  },
  {
   "cell_type": "code",
   "execution_count": 113,
   "id": "ddc7f49c-f5ce-4351-b8cb-b7ce23102853",
   "metadata": {},
   "outputs": [
    {
     "name": "stdout",
     "output_type": "stream",
     "text": [
      "    c1  c2\n",
      "r1   0   5\n",
      "r2   1   6\n",
      "r3   2   7\n",
      "r4   3   8\n",
      "r5   9   9\n",
      "\n",
      "    c1  c2\n",
      "r1   0   5\n",
      "r3   2   7\n",
      "r4   3   8\n",
      "r5   9   9\n",
      "\n"
     ]
    }
   ],
   "source": [
    "#df_app = df.append(row_df)\n",
    "df_app = pd.concat([df,row_df])\n",
    "df_drop = df_app.drop(labels='r2')\n",
    "\n",
    "print('{}\\n'.format(df_app))\n",
    "print('{}\\n'.format(df_drop))"
   ]
  },
  {
   "cell_type": "code",
   "execution_count": null,
   "id": "0d139c67-c5ce-4996-b80c-a8b8ebd1b51d",
   "metadata": {},
   "outputs": [],
   "source": []
  },
  {
   "cell_type": "code",
   "execution_count": null,
   "id": "89d0335c-74c5-49cc-bdb1-2324340b07bb",
   "metadata": {},
   "outputs": [],
   "source": []
  }
 ],
 "metadata": {
  "kernelspec": {
   "display_name": "Python 3 (ipykernel)",
   "language": "python",
   "name": "python3"
  },
  "language_info": {
   "codemirror_mode": {
    "name": "ipython",
    "version": 3
   },
   "file_extension": ".py",
   "mimetype": "text/x-python",
   "name": "python",
   "nbconvert_exporter": "python",
   "pygments_lexer": "ipython3",
   "version": "3.11.7"
  }
 },
 "nbformat": 4,
 "nbformat_minor": 5
}
