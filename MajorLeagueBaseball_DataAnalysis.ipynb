{
 "cells": [
  {
   "cell_type": "markdown",
   "id": "5f146aaa-6b75-4e55-9c27-3b4e541ed7e1",
   "metadata": {
    "collapsed": true,
    "jupyter": {
     "outputs_hidden": true
    }
   },
   "source": [
    "# Data Analysis - Major League Baseball Data"
   ]
  },
  {
   "cell_type": "markdown",
   "id": "6e3000f2-ff26-424d-9f23-a13b21afedbc",
   "metadata": {},
   "source": [
    "## Series"
   ]
  },
  {
   "cell_type": "code",
   "execution_count": 114,
   "id": "d81004d5-6acf-4cba-85d9-fbb8655f4958",
   "metadata": {},
   "outputs": [
    {
     "name": "stdout",
     "output_type": "stream",
     "text": [
      "Series([], dtype: float64)\n",
      "\n"
     ]
    }
   ],
   "source": [
    "import pandas as pd\n",
    "import numpy as np\n",
    "\n",
    "# Creating an empty series, will result in DeprecationWarning\n",
    "#series = pd.Series()\n",
    "\n",
    "# Passing dtype as a parameter to Series for an empty series to avoid DeprecationWarning\n",
    "# Creating an empty series\n",
    "series = pd.Series(dtype='float64')\n",
    "# Newline to separate series print statements\n",
    "print('{}\\n'.format(series))\n"
   ]
  },
  {
   "cell_type": "code",
   "execution_count": 115,
   "id": "cc56385b-aa16-403b-96c9-4243a82356e5",
   "metadata": {},
   "outputs": [
    {
     "name": "stdout",
     "output_type": "stream",
     "text": [
      "0    5\n",
      "dtype: int64\n",
      "\n"
     ]
    }
   ],
   "source": [
    "series = pd.Series(5)\n",
    "print('{}\\n'.format(series))"
   ]
  },
  {
   "cell_type": "code",
   "execution_count": 116,
   "id": "e56a8bb6-0651-4588-8add-3c2f0f649bf7",
   "metadata": {},
   "outputs": [
    {
     "name": "stdout",
     "output_type": "stream",
     "text": [
      "0    1\n",
      "1    2\n",
      "2    3\n",
      "dtype: int64\n",
      "\n"
     ]
    }
   ],
   "source": [
    "series = pd.Series([1, 2, 3])\n",
    "print('{}\\n'.format(series))"
   ]
  },
  {
   "cell_type": "code",
   "execution_count": 117,
   "id": "441ca656-198a-424a-a052-2d966e77d98b",
   "metadata": {},
   "outputs": [
    {
     "name": "stdout",
     "output_type": "stream",
     "text": [
      "0    1.0\n",
      "1    2.2\n",
      "dtype: float64\n",
      "\n"
     ]
    }
   ],
   "source": [
    "series = pd.Series([1, 2.2]) # upcasting\n",
    "print('{}\\n'.format(series))"
   ]
  },
  {
   "cell_type": "code",
   "execution_count": 118,
   "id": "b418e427-38c5-4606-a82f-ce1f51ec41b8",
   "metadata": {},
   "outputs": [
    {
     "name": "stdout",
     "output_type": "stream",
     "text": [
      "0    1.0\n",
      "1    2.0\n",
      "dtype: float32\n",
      "\n"
     ]
    }
   ],
   "source": [
    "arr = np.array([1, 2])\n",
    "series = pd.Series(arr, dtype=np.float32)\n",
    "print('{}\\n'.format(series))"
   ]
  },
  {
   "cell_type": "code",
   "execution_count": 119,
   "id": "d2960466-36f4-4b65-9a47-b3026c3d1051",
   "metadata": {},
   "outputs": [
    {
     "name": "stdout",
     "output_type": "stream",
     "text": [
      "0    [1, 2]\n",
      "1    [3, 4]\n",
      "dtype: object\n",
      "\n",
      "0       Vee\n",
      "1      Pree\n",
      "2    Fluffy\n",
      "dtype: object\n",
      "\n"
     ]
    }
   ],
   "source": [
    "series = pd.Series([[1, 2], [3, 4]])\n",
    "print('{}\\n'.format(series))\n",
    "\n",
    "series = pd.Series([\"Vee\",\"Pree\",\"Fluffy\"])\n",
    "print('{}\\n'.format(series))"
   ]
  },
  {
   "cell_type": "code",
   "execution_count": 120,
   "id": "30563b01-2959-43c4-966b-f1081f79be35",
   "metadata": {},
   "outputs": [
    {
     "name": "stdout",
     "output_type": "stream",
     "text": [
      "1    Albert\n",
      "2      Duke\n",
      "3     Jerry\n",
      "dtype: object \n",
      "\n"
     ]
    }
   ],
   "source": [
    "# custom indexing\n",
    "series = pd.Series([\"Albert\",\"Duke\",\"Jerry\"],index=[1,2,3])\n",
    "print('{} \\n'.format(series))"
   ]
  },
  {
   "cell_type": "code",
   "execution_count": 121,
   "id": "d817545d-0665-4f00-a6f2-fd0b6ea04edd",
   "metadata": {},
   "outputs": [
    {
     "name": "stdout",
     "output_type": "stream",
     "text": [
      "a      1\n",
      "8      2\n",
      "0.3    3\n",
      "dtype: int64\n",
      "\n"
     ]
    }
   ],
   "source": [
    "#index can be made of any static type\n",
    "series = pd.Series([1, 2, 3], index=['a', 8, 0.3])\n",
    "print('{}\\n'.format(series))"
   ]
  },
  {
   "cell_type": "markdown",
   "id": "a7a2eb64-7132-4429-8f70-c91320850c43",
   "metadata": {},
   "source": [
    "### Exercise"
   ]
  },
  {
   "cell_type": "code",
   "execution_count": 122,
   "id": "0b7f439e-4b1a-4306-89e1-581bee2627f9",
   "metadata": {},
   "outputs": [
    {
     "name": "stdout",
     "output_type": "stream",
     "text": [
      "0    1.0\n",
      "1    3.0\n",
      "2    5.2\n",
      "dtype: float64\n",
      "\n",
      "0    0.10\n",
      "1    0.60\n",
      "2    1.56\n",
      "dtype: float64\n",
      "\n",
      "a    1.0\n",
      "b    3.0\n",
      "c    8.0\n",
      "d    NaN\n",
      "dtype: float64\n",
      "\n",
      "a    0\n",
      "b    1\n",
      "c    2\n",
      "dtype: int64\n",
      "\n"
     ]
    }
   ],
   "source": [
    "s1 = pd.Series([1,3,5.2])\n",
    "print('{}\\n'.format(s1))\n",
    "\n",
    "s2 = s1 * pd.Series([0.1,0.2,0.3])\n",
    "print('{}\\n'.format(s2))\n",
    "\n",
    "s3 = pd.Series([1,3,8,np.nan],index = ['a', 'b', 'c', 'd'])\n",
    "print('{}\\n'.format(s3))\n",
    "\n",
    "s4 = pd.Series({'a':0 , 'b':1 , 'c':2})\n",
    "print('{}\\n'.format(s4))\n"
   ]
  },
  {
   "cell_type": "markdown",
   "id": "de6c3c07-ec95-46fe-af72-3cdd9f82d6ae",
   "metadata": {},
   "source": [
    "## DataFrame"
   ]
  },
  {
   "cell_type": "code",
   "execution_count": 123,
   "id": "2a0b9759-7ea9-4e3c-9ddb-c98e71dc61d5",
   "metadata": {},
   "outputs": [],
   "source": [
    "df = pd.DataFrame()"
   ]
  },
  {
   "cell_type": "code",
   "execution_count": 124,
   "id": "3616b992-1c3d-49cf-b54d-1ecbf968bc58",
   "metadata": {},
   "outputs": [
    {
     "name": "stdout",
     "output_type": "stream",
     "text": [
      "   0\n",
      "0  1\n",
      "1  2\n",
      "2  3\n",
      "\n"
     ]
    }
   ],
   "source": [
    "df = pd.DataFrame([1,2,3])\n",
    "print('{}\\n'.format(df))"
   ]
  },
  {
   "cell_type": "code",
   "execution_count": 125,
   "id": "ef720d4c-174a-449e-adfe-460708726605",
   "metadata": {},
   "outputs": [
    {
     "name": "stdout",
     "output_type": "stream",
     "text": [
      "   0  1  2\n",
      "0  1  2  3\n",
      "\n"
     ]
    }
   ],
   "source": [
    "df = pd.DataFrame([[1,2,3]])\n",
    "print('{}\\n'.format(df))"
   ]
  },
  {
   "cell_type": "code",
   "execution_count": 126,
   "id": "a3f5dc4f-e96d-4fed-a005-79a849d82ffc",
   "metadata": {},
   "outputs": [
    {
     "name": "stdout",
     "output_type": "stream",
     "text": [
      "    c1  c2\n",
      "r1   1   2\n",
      "r2   5   6\n",
      "\n"
     ]
    }
   ],
   "source": [
    "df = pd.DataFrame([[1,2],[5,6]],columns =['c1','c2'] , index =['r1','r2'])\n",
    "print('{}\\n'.format(df))"
   ]
  },
  {
   "cell_type": "code",
   "execution_count": 127,
   "id": "233b5476-50bc-42d4-9577-9111f751325c",
   "metadata": {},
   "outputs": [
    {
     "name": "stdout",
     "output_type": "stream",
     "text": [
      "    c1  c2\n",
      "r1   1   4\n",
      "r2   2   5\n",
      "\n"
     ]
    }
   ],
   "source": [
    "df = pd.DataFrame({'c1':[1,2],'c2':[4,5]},index=['r1','r2'])\n",
    "print('{}\\n'.format(df))"
   ]
  },
  {
   "cell_type": "markdown",
   "id": "d5aefabf-e40b-403a-addc-f2a32c3369db",
   "metadata": {},
   "source": [
    "### Upcasting Dataframe"
   ]
  },
  {
   "cell_type": "code",
   "execution_count": 128,
   "id": "d4382697-1557-432a-bde5-5d2c922cdbe6",
   "metadata": {},
   "outputs": [],
   "source": [
    "upcast = pd.DataFrame([[5, 6], [1.2, 3]])"
   ]
  },
  {
   "cell_type": "code",
   "execution_count": 129,
   "id": "0e958ae6-c086-4968-8a58-aae65a778204",
   "metadata": {},
   "outputs": [
    {
     "name": "stdout",
     "output_type": "stream",
     "text": [
      "     0  1\n",
      "0  5.0  6\n",
      "1  1.2  3\n",
      "\n",
      "\n",
      " 0    float64\n",
      "1      int64\n",
      "dtype: object\n"
     ]
    }
   ],
   "source": [
    "print('{}\\n'.format(upcast))\n",
    "print('\\n',upcast.dtypes)"
   ]
  },
  {
   "cell_type": "code",
   "execution_count": 130,
   "id": "fa08cf9f-a41b-4f0e-a317-807d7691eba7",
   "metadata": {},
   "outputs": [],
   "source": [
    "df = pd.DataFrame([[5, 6], [1.2, 3]])\n",
    "ser = pd.Series([0, 0], name='r3')\n",
    "\n",
    "#df_app = df.append(ser)\n",
    "#print('{}\\n'.format(df_app))"
   ]
  },
  {
   "cell_type": "markdown",
   "id": "cd9b4552-779f-41f8-bdbc-2669a8977e47",
   "metadata": {},
   "source": [
    "### Concatinating DataFrame"
   ]
  },
  {
   "cell_type": "code",
   "execution_count": 131,
   "id": "950686e2-4afd-48b4-963c-09e1eb2783f7",
   "metadata": {},
   "outputs": [
    {
     "name": "stdout",
     "output_type": "stream",
     "text": [
      "     0    1\n",
      "0  5.0  6.0\n",
      "1  1.2  3.0\n",
      "2  0.0  NaN\n",
      "3  0.0  NaN\n",
      "\n"
     ]
    }
   ],
   "source": [
    "\n",
    "df = pd.DataFrame([[5, 6], [1.2, 3]])\n",
    "ser = pd.Series([0, 0], name='r3')\n",
    "\n",
    "df_app = pd.concat([df,ser],ignore_index = True)\n",
    "print('{}\\n'.format(df_app))"
   ]
  },
  {
   "cell_type": "code",
   "execution_count": 132,
   "id": "e24faba8-1c26-4649-ae51-7693f2975cdc",
   "metadata": {},
   "outputs": [
    {
     "name": "stdout",
     "output_type": "stream",
     "text": [
      "     0    1\n",
      "0  5.0  6.0\n",
      "1  1.2  3.0\n",
      "2  0.0  NaN\n",
      "3  0.0  NaN\n",
      "0  0.0  0.0\n",
      "1  9.0  9.0\n",
      "\n"
     ]
    }
   ],
   "source": [
    "df2 = pd.DataFrame([[0,0],[9,9]])\n",
    "df_app = pd.concat([df_app,df2])\n",
    "print('{}\\n'.format(df_app))\n",
    "\n"
   ]
  },
  {
   "cell_type": "markdown",
   "id": "1cb11b2a-89bd-4892-9c65-a424806a9607",
   "metadata": {},
   "source": [
    "### Dropping Data"
   ]
  },
  {
   "cell_type": "code",
   "execution_count": 133,
   "id": "1d300893-cb3e-46e7-83e4-c5c5da51754d",
   "metadata": {},
   "outputs": [
    {
     "name": "stdout",
     "output_type": "stream",
     "text": [
      "    c1  c2  c3\n",
      "r1   1   3   5\n",
      "r2   2   4   6\n",
      "\n"
     ]
    }
   ],
   "source": [
    "df = pd.DataFrame({'c1': [1, 2], 'c2': [3, 4],\n",
    "                   'c3': [5, 6]},\n",
    "                  index=['r1', 'r2'])\n",
    "print('{}\\n'.format(df))\n"
   ]
  },
  {
   "cell_type": "code",
   "execution_count": 134,
   "id": "be319871-98a8-4ffc-b31b-8d7803bc3ebd",
   "metadata": {},
   "outputs": [
    {
     "name": "stdout",
     "output_type": "stream",
     "text": [
      "    c1  c2  c3\n",
      "r2   2   4   6\n",
      "\n"
     ]
    }
   ],
   "source": [
    "df_drop = df.drop(labels='r1')\n",
    "print('{}\\n'.format(df_drop))\n"
   ]
  },
  {
   "cell_type": "code",
   "execution_count": 135,
   "id": "09e8c4ad-f215-4f0c-8aa1-514572f9cea4",
   "metadata": {},
   "outputs": [
    {
     "name": "stdout",
     "output_type": "stream",
     "text": [
      "    c2\n",
      "r1   3\n",
      "r2   4\n",
      "\n"
     ]
    }
   ],
   "source": [
    "\n",
    "# Drop columns c1, c3\n",
    "df_drop = df.drop(labels=['c1', 'c3'], axis=1)\n",
    "print('{}\\n'.format(df_drop))\n"
   ]
  },
  {
   "cell_type": "code",
   "execution_count": 136,
   "id": "57ff87ca-758e-4f43-94dd-82c6d3b0371c",
   "metadata": {},
   "outputs": [
    {
     "name": "stdout",
     "output_type": "stream",
     "text": [
      "    c1  c3\n",
      "r1   1   5\n",
      "r2   2   6\n",
      "\n"
     ]
    }
   ],
   "source": [
    "\n",
    "\n",
    "df_drop = df.drop(columns='c2')\n",
    "print('{}\\n'.format(df_drop))\n"
   ]
  },
  {
   "cell_type": "code",
   "execution_count": 137,
   "id": "7cb1f2a6-362a-4bcf-b9e4-04752aa991bd",
   "metadata": {},
   "outputs": [
    {
     "name": "stdout",
     "output_type": "stream",
     "text": [
      "    c1  c3\n",
      "r1   1   5\n",
      "r2   2   6\n",
      "\n"
     ]
    }
   ],
   "source": [
    "\n",
    "df.drop(index='r2', columns='c2')\n",
    "print('{}\\n'.format(df_drop))"
   ]
  },
  {
   "cell_type": "code",
   "execution_count": 138,
   "id": "5702b1a3-e9cf-4da5-94bc-42776123d926",
   "metadata": {},
   "outputs": [
    {
     "name": "stdout",
     "output_type": "stream",
     "text": [
      "    c1  c2\n",
      "r1   0   5\n",
      "r2   1   6\n",
      "r3   2   7\n",
      "r4   3   8\n",
      "\n"
     ]
    }
   ],
   "source": [
    "df =pd.DataFrame({'c1':[0,1,2,3],'c2':[5,6,7,8]},index=['r1', 'r2', 'r3', 'r4'])\n",
    "print('{}\\n'.format(df))"
   ]
  },
  {
   "cell_type": "code",
   "execution_count": 139,
   "id": "c2615600-0adc-42c0-88c9-20929f9179a8",
   "metadata": {},
   "outputs": [
    {
     "name": "stdout",
     "output_type": "stream",
     "text": [
      "    c1  c2\n",
      "r5   9   9\n",
      "\n"
     ]
    }
   ],
   "source": [
    "row_df =  pd.DataFrame([[9,9]],columns=['c1', 'c2'],index=['r5'])\n",
    "print('{}\\n'.format(row_df))"
   ]
  },
  {
   "cell_type": "code",
   "execution_count": 140,
   "id": "ddc7f49c-f5ce-4351-b8cb-b7ce23102853",
   "metadata": {},
   "outputs": [
    {
     "name": "stdout",
     "output_type": "stream",
     "text": [
      "    c1  c2\n",
      "r1   0   5\n",
      "r2   1   6\n",
      "r3   2   7\n",
      "r4   3   8\n",
      "r5   9   9\n",
      "\n",
      "    c1  c2\n",
      "r1   0   5\n",
      "r3   2   7\n",
      "r4   3   8\n",
      "r5   9   9\n",
      "\n"
     ]
    }
   ],
   "source": [
    "#df_app = df.append(row_df)\n",
    "df_app = pd.concat([df,row_df])\n",
    "df_drop = df_app.drop(labels='r2')\n",
    "\n",
    "print('{}\\n'.format(df_app))\n",
    "print('{}\\n'.format(df_drop))"
   ]
  },
  {
   "cell_type": "markdown",
   "id": "7c3d7ba5-518d-4654-8f5a-87a626160ecf",
   "metadata": {},
   "source": [
    "## Combining"
   ]
  },
  {
   "cell_type": "code",
   "execution_count": 143,
   "id": "0d139c67-c5ce-4996-b80c-a8b8ebd1b51d",
   "metadata": {},
   "outputs": [],
   "source": [
    "df1 = pd.DataFrame({'c1':[1,2], 'c2':[3,4]},\n",
    "                   index=['r1','r2'])\n",
    "df2 = pd.DataFrame({'c1':[5,6], 'c2':[7,8]},\n",
    "                   index=['r1','r2'])\n",
    "df3 = pd.DataFrame({'c1':[5,6], 'c2':[7,8]})\n"
   ]
  },
  {
   "cell_type": "code",
   "execution_count": 144,
   "id": "89d0335c-74c5-49cc-bdb1-2324340b07bb",
   "metadata": {},
   "outputs": [
    {
     "name": "stdout",
     "output_type": "stream",
     "text": [
      "    c1  c2  c1  c2\n",
      "r1   1   3   5   7\n",
      "r2   2   4   6   8\n",
      "\n",
      "    c1  c2\n",
      "r1   5   7\n",
      "r2   6   8\n",
      "r1   1   3\n",
      "r2   2   4\n",
      "0    5   7\n",
      "1    6   8\n",
      "\n",
      "     c1   c2   c1   c2\n",
      "r1  1.0  3.0  NaN  NaN\n",
      "r2  2.0  4.0  NaN  NaN\n",
      "0   NaN  NaN  5.0  7.0\n",
      "1   NaN  NaN  6.0  8.0\n",
      "\n"
     ]
    }
   ],
   "source": [
    "\n",
    "concat = pd.concat([df1, df2], axis=1)\n",
    "# Newline to separate print statements\n",
    "print('{}\\n'.format(concat))\n",
    "\n",
    "concat = pd.concat([df2, df1, df3])\n",
    "print('{}\\n'.format(concat))\n",
    "\n",
    "concat = pd.concat([df1, df3], axis=1)\n",
    "print('{}\\n'.format(concat))"
   ]
  },
  {
   "cell_type": "markdown",
   "id": "380db4d7-270e-4c3f-8764-d98fbc5af411",
   "metadata": {},
   "source": [
    "### Merging"
   ]
  },
  {
   "cell_type": "code",
   "execution_count": 145,
   "id": "8c1232b2-7b79-4e38-a38d-a067301e3fb6",
   "metadata": {},
   "outputs": [],
   "source": [
    "mlb_df1 = pd.DataFrame({'name': ['john doe', 'al smith', 'sam black', 'john doe'],\n",
    "                        'pos': ['1B', 'C', 'P', '2B'],\n",
    "                        'year': [2000, 2004, 2008, 2003]})\n",
    "mlb_df2 = pd.DataFrame({'name': ['john doe', 'al smith', 'jack lee'],\n",
    "                        'year': [2000, 2004, 2012],\n",
    "                        'rbi': [80, 100, 12]})\n",
    "  "
   ]
  },
  {
   "cell_type": "code",
   "execution_count": 149,
   "id": "c78248af-6556-47e5-8b5d-2b0a4dcbe2d2",
   "metadata": {},
   "outputs": [
    {
     "name": "stdout",
     "output_type": "stream",
     "text": [
      "        name pos  year\n",
      "0   john doe  1B  2000\n",
      "1   al smith   C  2004\n",
      "2  sam black   P  2008\n",
      "3   john doe  2B  2003\n",
      "\n",
      "        name pos  year\n",
      "0   john doe  1B  2000\n",
      "1   al smith   C  2004\n",
      "2  sam black   P  2008\n",
      "3   john doe  2B  2003\n",
      "\n",
      "       name pos  year  rbi\n",
      "0  john doe  1B  2000   80\n",
      "1  al smith   C  2004  100\n",
      "\n"
     ]
    }
   ],
   "source": [
    "                      \n",
    "print('{}\\n'.format(mlb_df1))\n",
    "print('{}\\n'.format(mlb_df1))\n",
    "\n",
    "mlb_merged = pd.merge(mlb_df1, mlb_df2)\n",
    "print('{}\\n'.format(mlb_merged))"
   ]
  },
  {
   "cell_type": "code",
   "execution_count": 150,
   "id": "8691f0b4-e905-4288-b5de-6d8089151ee5",
   "metadata": {},
   "outputs": [],
   "source": [
    "def concat_rows(df1, df2):\n",
    "  row_concat = pd.concat([df1,df2])\n",
    "  return row_concat"
   ]
  },
  {
   "cell_type": "code",
   "execution_count": 151,
   "id": "671d2c32-b0d7-4f44-9fb9-6c7d7df47358",
   "metadata": {},
   "outputs": [],
   "source": [
    "def concat_cols(df1, df2):\n",
    "  col_concat = pd.concat([df1,df2],axis = 1)\n",
    "  return col_concat"
   ]
  },
  {
   "cell_type": "code",
   "execution_count": 164,
   "id": "bdb7968f-06af-4b61-ba73-ac4884aab525",
   "metadata": {},
   "outputs": [],
   "source": [
    "def merge_dfs(df1, df2):\n",
    "  merged_df = pd.merge(df1,df2)\n",
    "  return merged_df"
   ]
  },
  {
   "cell_type": "markdown",
   "id": "c0589fa7-b46c-4123-8f16-497c7049b1b1",
   "metadata": {},
   "source": [
    "## Indexing"
   ]
  },
  {
   "cell_type": "markdown",
   "id": "321f60bc-7003-4c46-82a7-cedac04737b7",
   "metadata": {},
   "source": [
    "### Direct Indexing"
   ]
  },
  {
   "cell_type": "code",
   "execution_count": 165,
   "id": "f7a8fa3b-d7a9-4341-b37d-d0d73bad14c9",
   "metadata": {},
   "outputs": [
    {
     "name": "stdout",
     "output_type": "stream",
     "text": [
      "      name  age\n",
      "0   albert   30\n",
      "1      rob   26\n",
      "2  timothy   55\n",
      "\n"
     ]
    }
   ],
   "source": [
    "df = pd.DataFrame({'name':['albert','rob','timothy'],'age':[30,26,55]})\n",
    "print('{}\\n'.format(df))"
   ]
  },
  {
   "cell_type": "code",
   "execution_count": 166,
   "id": "758f11a1-486a-4e20-bab9-5ef2cbd1886c",
   "metadata": {},
   "outputs": [
    {
     "name": "stdout",
     "output_type": "stream",
     "text": [
      "0     albert\n",
      "1        rob\n",
      "2    timothy\n",
      "Name: name, dtype: object\n",
      "\n"
     ]
    }
   ],
   "source": [
    "col1 = df['name']\n",
    "#output is a series\n",
    "print('{}\\n'.format(col1))\n"
   ]
  },
  {
   "cell_type": "code",
   "execution_count": 167,
   "id": "09bc1b31-d419-4c99-8d7e-009d4107fc26",
   "metadata": {},
   "outputs": [
    {
     "name": "stdout",
     "output_type": "stream",
     "text": [
      "   age\n",
      "0   30\n",
      "1   26\n",
      "2   55\n",
      "\n"
     ]
    }
   ],
   "source": [
    "\n",
    "col1_df = df[['age']]\n",
    "#output is a dataframe\n",
    "print('{}\\n'.format(col1_df))\n"
   ]
  },
  {
   "cell_type": "code",
   "execution_count": 168,
   "id": "9cea1846-e7d1-4e4a-aaad-c090773b590d",
   "metadata": {},
   "outputs": [
    {
     "name": "stdout",
     "output_type": "stream",
     "text": [
      "      name  age\n",
      "0   albert   30\n",
      "1      rob   26\n",
      "2  timothy   55\n",
      "\n"
     ]
    }
   ],
   "source": [
    "\n",
    "col23 = df[['name', 'age']]\n",
    "print('{}\\n'.format(col23))"
   ]
  },
  {
   "cell_type": "code",
   "execution_count": 169,
   "id": "341b34b1-4454-4f3d-a1b8-775fa57a90eb",
   "metadata": {},
   "outputs": [],
   "source": [
    "df = pd.DataFrame({'c1': [1, 2, 3], 'c2': [4, 5, 6],\n",
    "                   'c3': [7, 8, 9]}, index=['r1', 'r2', 'r3'])\n"
   ]
  },
  {
   "cell_type": "code",
   "execution_count": 170,
   "id": "2ab41906-01cb-4b01-8d1b-1a99a8fb943e",
   "metadata": {},
   "outputs": [
    {
     "name": "stdout",
     "output_type": "stream",
     "text": [
      "    c1  c2  c3\n",
      "r1   1   4   7\n",
      "r2   2   5   8\n",
      "\n"
     ]
    }
   ],
   "source": [
    "first_two_rows = df[0:2]\n",
    "print('{}\\n'.format(first_two_rows))"
   ]
  },
  {
   "cell_type": "code",
   "execution_count": 171,
   "id": "7d3a9644-37c7-440b-83d2-e746aeb0958f",
   "metadata": {},
   "outputs": [
    {
     "name": "stdout",
     "output_type": "stream",
     "text": [
      "    c1  c2  c3\n",
      "r2   2   5   8\n",
      "r3   3   6   9\n",
      "\n"
     ]
    }
   ],
   "source": [
    "last_two_rows = df['r2':'r3']\n",
    "print('{}\\n'.format(last_two_rows))"
   ]
  },
  {
   "cell_type": "code",
   "execution_count": 172,
   "id": "8017b866-4450-4fcc-9918-9e959a51f104",
   "metadata": {},
   "outputs": [
    {
     "name": "stdout",
     "output_type": "stream",
     "text": [
      "    c1  c2  c3\n",
      "r1   1   4   7\n",
      "r2   2   5   8\n",
      "r3   3   6   9\n",
      "\n"
     ]
    }
   ],
   "source": [
    "df = pd.DataFrame({'c1': [1, 2, 3], 'c2': [4, 5, 6],\n",
    "                   'c3': [7, 8, 9]}, index=['r1', 'r2', 'r3'])\n",
    "                   \n",
    "print('{}\\n'.format(df))\n"
   ]
  },
  {
   "cell_type": "code",
   "execution_count": 175,
   "id": "67e5ed91-1d99-4a63-9554-f91a4d74e489",
   "metadata": {},
   "outputs": [
    {
     "name": "stdout",
     "output_type": "stream",
     "text": [
      "c1    2\n",
      "c2    5\n",
      "c3    8\n",
      "Name: r2, dtype: int64\n",
      "\n",
      "    c1  c2  c3\n",
      "r1   1   4   7\n",
      "r3   3   6   9\n",
      "\n",
      "    c1  c2  c3\n",
      "r2   2   5   8\n",
      "r3   3   6   9\n",
      "\n"
     ]
    }
   ],
   "source": [
    "\n",
    "print('{}\\n'.format(df.iloc[1])) #row 1\n",
    "\n",
    "print('{}\\n'.format(df.iloc[[0, 2]])) #row 0,2\n",
    "\n",
    "bool_list = [False, True, True]\n",
    "print('{}\\n'.format(df.iloc[bool_list])) #row 0-> False , row1 -> true , row2 -> true"
   ]
  },
  {
   "cell_type": "code",
   "execution_count": 176,
   "id": "8926e742-8f32-43e2-a2fd-d8a360b38473",
   "metadata": {},
   "outputs": [
    {
     "name": "stdout",
     "output_type": "stream",
     "text": [
      "    c1  c2  c3\n",
      "r1   1   4   7\n",
      "r2   2   5   8\n",
      "r3   3   6   9\n",
      "\n"
     ]
    }
   ],
   "source": [
    "df = pd.DataFrame({'c1': [1, 2, 3], 'c2': [4, 5, 6],\n",
    "                   'c3': [7, 8, 9]}, index=['r1', 'r2', 'r3'])\n",
    "                   \n",
    "print('{}\\n'.format(df))\n"
   ]
  },
  {
   "cell_type": "code",
   "execution_count": 199,
   "id": "9a44f096-b6a0-479a-8e16-f1230129f57b",
   "metadata": {},
   "outputs": [
    {
     "name": "stdout",
     "output_type": "stream",
     "text": [
      "c1    2\n",
      "c2    5\n",
      "c3    8\n",
      "Name: r2, dtype: int64\n",
      "\n",
      "    c1  c2  c3\n",
      "r2   2   5   8\n",
      "r3   3   0   9\n",
      "\n",
      "Single val: 0\n",
      "\n",
      "r1    0\n",
      "r3    0\n",
      "Name: c2, dtype: int64\n",
      "\n",
      "    c1  c2  c3\n",
      "r1   1   0   7\n",
      "r2   2   5   8\n",
      "r3   3   0   9\n",
      "\n"
     ]
    }
   ],
   "source": [
    "\n",
    "print('{}\\n'.format(df.loc['r2']))\n",
    "\n",
    "bool_list = [False, True, True]\n",
    "print('{}\\n'.format(df.loc[bool_list]))\n",
    "\n",
    "single_val = df.loc['r1', 'c2']\n",
    "print('Single val: {}\\n'.format(single_val))\n",
    "\n",
    "print('{}\\n'.format(df.loc[['r1', 'r3'], 'c2']))\n",
    "\n",
    "df.loc[['r1', 'r3'], 'c2'] = 0\n",
    "print('{}\\n'.format(df))\n",
    "\n"
   ]
  },
  {
   "cell_type": "code",
   "execution_count": 215,
   "id": "e28f94f5-6b56-4b11-98f5-3fd86e54827c",
   "metadata": {},
   "outputs": [],
   "source": [
    "pitching = pd.read_csv('pitching.csv',encoding='unicode_escape',delimiter=';',index_col=0)"
   ]
  },
  {
   "cell_type": "code",
   "execution_count": 216,
   "id": "fbdeb241-982e-496d-a8e9-d6724cf302c7",
   "metadata": {},
   "outputs": [
    {
     "name": "stdout",
     "output_type": "stream",
     "text": [
      "               Name  Age   Tm  Lg  W  L\n",
      "Rk                                     \n",
      "1       Cory Abbott   26  WSN  NL  0  2\n",
      "2      Albert Abreu   26  TOT  AL  2  2\n",
      "3      Albert Abreu   26  TEX  AL  0  0\n",
      "4      Albert Abreu   26  KCR  AL  0  0\n",
      "5      Albert Abreu   26  NYY  AL  2  2\n",
      "6       Bryan Abreu   25  HOU  AL  4  0\n",
      "7   Domingo Acevedo   28  OAK  AL  4  4\n",
      "8        Jason Adam   30  TBR  AL  2  3\n",
      "9      Austin Adams   31  SDP  NL  1  0\n",
      "\n"
     ]
    }
   ],
   "source": [
    "print('{}\\n'.format(pitching))"
   ]
  },
  {
   "cell_type": "code",
   "execution_count": 250,
   "id": "caed8cb0-fd60-4455-8e53-957383ad0b66",
   "metadata": {},
   "outputs": [],
   "source": [
    "groups = pitching.groupby('Age')"
   ]
  },
  {
   "cell_type": "code",
   "execution_count": 251,
   "id": "5c380ab1-12f0-4b50-933a-f5501ba1c211",
   "metadata": {},
   "outputs": [
    {
     "name": "stdout",
     "output_type": "stream",
     "text": [
      "<pandas.core.groupby.generic.DataFrameGroupBy object at 0x1281c4690>\n"
     ]
    }
   ],
   "source": [
    "print(groups)"
   ]
  },
  {
   "cell_type": "code",
   "execution_count": 252,
   "id": "953e75e8-070c-487c-9abd-bea3ca60abb6",
   "metadata": {},
   "outputs": [
    {
     "name": "stdout",
     "output_type": "stream",
     "text": [
      "Age: 25\n",
      "           Name  Age   Tm  Lg  W  L\n",
      "Rk                                 \n",
      "6   Bryan Abreu   25  HOU  AL  4  0\n",
      "\n",
      "Age: 26\n",
      "            Name  Age   Tm  Lg  W  L\n",
      "Rk                                  \n",
      "1    Cory Abbott   26  WSN  NL  0  2\n",
      "2   Albert Abreu   26  TOT  AL  2  2\n",
      "3   Albert Abreu   26  TEX  AL  0  0\n",
      "4   Albert Abreu   26  KCR  AL  0  0\n",
      "5   Albert Abreu   26  NYY  AL  2  2\n",
      "\n",
      "Age: 28\n",
      "               Name  Age   Tm  Lg  W  L\n",
      "Rk                                     \n",
      "7   Domingo Acevedo   28  OAK  AL  4  4\n",
      "\n",
      "Age: 30\n",
      "          Name  Age   Tm  Lg  W  L\n",
      "Rk                                \n",
      "8   Jason Adam   30  TBR  AL  2  3\n",
      "\n",
      "Age: 31\n",
      "            Name  Age   Tm  Lg  W  L\n",
      "Rk                                  \n",
      "9   Austin Adams   31  SDP  NL  1  0\n",
      "\n"
     ]
    }
   ],
   "source": [
    "for name, group in groups:\n",
    "  print('Age: {}'.format(name))\n",
    "  print('{}\\n'.format(group))"
   ]
  },
  {
   "cell_type": "code",
   "execution_count": 254,
   "id": "4d14ef03-d408-4800-838e-08ef9b6130c2",
   "metadata": {},
   "outputs": [
    {
     "name": "stdout",
     "output_type": "stream",
     "text": [
      "            Name  Age   Tm  Lg  W  L\n",
      "Rk                                  \n",
      "1    Cory Abbott   26  WSN  NL  0  2\n",
      "2   Albert Abreu   26  TOT  AL  2  2\n",
      "3   Albert Abreu   26  TEX  AL  0  0\n",
      "4   Albert Abreu   26  KCR  AL  0  0\n",
      "5   Albert Abreu   26  NYY  AL  2  2\n",
      "\n"
     ]
    }
   ],
   "source": [
    "print('{}\\n'.format(groups.get_group(26)))\n"
   ]
  },
  {
   "cell_type": "markdown",
   "id": "54c61cd1-e5f8-4940-853d-f4524bf93a66",
   "metadata": {},
   "source": [
    "## Features"
   ]
  },
  {
   "cell_type": "code",
   "execution_count": 261,
   "id": "de925447-f08b-453a-9f5d-38e22a17d302",
   "metadata": {},
   "outputs": [
    {
     "name": "stdout",
     "output_type": "stream",
     "text": [
      "   T1  T2  T3\n",
      "0  10  25  16\n",
      "1  15  27  15\n",
      "2   8  25  10\n",
      "\n"
     ]
    }
   ],
   "source": [
    "df = pd.DataFrame({\n",
    "  'T1': [10, 15, 8],\n",
    "  'T2': [25, 27, 25],\n",
    "  'T3': [16, 15, 10]})\n",
    "  \n",
    "print('{}\\n'.format(df))\n",
    "\n"
   ]
  },
  {
   "cell_type": "code",
   "execution_count": 262,
   "id": "67c6823a-1483-4e44-9632-2adfc45a5a44",
   "metadata": {},
   "outputs": [
    {
     "name": "stdout",
     "output_type": "stream",
     "text": [
      "T1    33\n",
      "T2    77\n",
      "T3    41\n",
      "dtype: int64\n",
      "\n",
      "0    51\n",
      "1    57\n",
      "2    43\n",
      "dtype: int64\n",
      "\n",
      "T1    11.000000\n",
      "T2    25.666667\n",
      "T3    13.666667\n",
      "dtype: float64\n",
      "\n",
      "0    17.000000\n",
      "1    19.000000\n",
      "2    14.333333\n",
      "dtype: float64\n",
      "\n"
     ]
    }
   ],
   "source": [
    "print('{}\\n'.format(df.sum()))\n",
    "\n",
    "print('{}\\n'.format(df.sum(axis=1)))\n",
    "\n",
    "print('{}\\n'.format(df.mean()))\n",
    "\n",
    "print('{}\\n'.format(df.mean(axis=1)))"
   ]
  },
  {
   "cell_type": "code",
   "execution_count": 270,
   "id": "ac78bb19-c36c-425f-850a-0bcd44156c8c",
   "metadata": {},
   "outputs": [
    {
     "name": "stdout",
     "output_type": "stream",
     "text": [
      "      T1      T2      T3\n",
      "0    0.1    0.25    0.16\n",
      "1  150.0  240.00  100.00\n",
      "\n",
      "      T1     T2      T3\n",
      "0    0.2    0.5    0.32\n",
      "1  300.0  480.0  200.00\n",
      "\n"
     ]
    }
   ],
   "source": [
    "df = pd.DataFrame({\n",
    "  'T1': [0.1, 150.],\n",
    "  'T2': [0.25, 240.],\n",
    "  'T3': [0.16, 100.]})\n",
    "  \n",
    "print('{}\\n'.format(df))\n",
    "\n",
    "print('{}\\n'.format(df.multiply(2)))"
   ]
  },
  {
   "cell_type": "code",
   "execution_count": 271,
   "id": "77275d8f-dae9-45a7-be7d-6007aabe0548",
   "metadata": {},
   "outputs": [
    {
     "name": "stdout",
     "output_type": "stream",
     "text": [
      "      T1     T2     T3\n",
      "0   10.0   25.0   16.0\n",
      "1  150.0  240.0  100.0\n",
      "\n"
     ]
    }
   ],
   "source": [
    "\n",
    "df_ms = df.multiply([100, 1], axis=0) # Row wise multiply , multiply default axis is column wise \n",
    "print('{}\\n'.format(df_ms))\n"
   ]
  },
  {
   "cell_type": "code",
   "execution_count": 267,
   "id": "02853161-936c-4e08-8a1d-b75ad4597a92",
   "metadata": {},
   "outputs": [
    {
     "name": "stdout",
     "output_type": "stream",
     "text": [
      "      T1     T2     T3\n",
      "0   10.0   12.5   16.0\n",
      "1  150.0  120.0  100.0\n",
      "\n",
      "0     38.5\n",
      "1    370.0\n",
      "dtype: float64\n",
      "\n"
     ]
    }
   ],
   "source": [
    "df_w = df_ms.multiply([1,0.5,1]) #column wise multiply\n",
    "print('{}\\n'.format(df_w))\n",
    "print('{}\\n'.format(df_w.sum(axis=1)))"
   ]
  },
  {
   "cell_type": "markdown",
   "id": "67392852-ed98-4538-994b-f29390ea445a",
   "metadata": {},
   "source": [
    "## Filtering\n"
   ]
  },
  {
   "cell_type": "code",
   "execution_count": 273,
   "id": "0663bb91-ea22-4d69-bbfc-df80bb62ed6a",
   "metadata": {},
   "outputs": [
    {
     "name": "stdout",
     "output_type": "stream",
     "text": [
      "    playerID  yearID teamID  HR\n",
      "0  bettsmo01    2016    BOS  31\n",
      "1   canoro01    2016    SEA  39\n",
      "2   cruzne02    2016    SEA  43\n",
      "3  ortizda01    2016    BOS  38\n",
      "4   cruzne02    2017    SEA  39\n",
      "\n"
     ]
    }
   ],
   "source": [
    "df = pd.DataFrame({\n",
    "  'playerID': ['bettsmo01', 'canoro01', 'cruzne02', 'ortizda01', 'cruzne02'],\n",
    "  'yearID': [2016, 2016, 2016, 2016, 2017],\n",
    "  'teamID': ['BOS', 'SEA', 'SEA', 'BOS', 'SEA'],\n",
    "  'HR': [31, 39, 43, 38, 39]})\n",
    "  \n",
    "print('{}\\n'.format(df))\n"
   ]
  },
  {
   "cell_type": "code",
   "execution_count": 274,
   "id": "16d385ad-89cf-4e23-ac0e-23bd6feb7637",
   "metadata": {},
   "outputs": [
    {
     "name": "stdout",
     "output_type": "stream",
     "text": [
      "0    False\n",
      "1    False\n",
      "2     True\n",
      "3    False\n",
      "4     True\n",
      "Name: playerID, dtype: bool\n",
      "\n",
      "0    False\n",
      "1    False\n",
      "2     True\n",
      "3    False\n",
      "4    False\n",
      "Name: HR, dtype: bool\n",
      "\n",
      "0    False\n",
      "1     True\n",
      "2     True\n",
      "3    False\n",
      "4     True\n",
      "Name: teamID, dtype: bool\n",
      "\n"
     ]
    }
   ],
   "source": [
    "\n",
    "cruzne02 = df['playerID'] == 'cruzne02'\n",
    "print('{}\\n'.format(cruzne02))\n",
    "\n",
    "hr40 = df['HR'] > 40\n",
    "print('{}\\n'.format(hr40))\n",
    "\n",
    "notbos = df['teamID'] != 'BOS'\n",
    "print('{}\\n'.format(notbos))"
   ]
  },
  {
   "cell_type": "code",
   "execution_count": 276,
   "id": "90c68983-5330-45b8-84ae-1c52171fb88a",
   "metadata": {},
   "outputs": [
    {
     "name": "stdout",
     "output_type": "stream",
     "text": [
      "   playerID  yearID teamID  HR\n",
      "2  cruzne02    2016    SEA  43\n",
      "4  cruzne02    2017    SEA  39\n",
      "\n",
      "   playerID  yearID teamID  HR\n",
      "2  cruzne02    2016    SEA  43\n",
      "\n",
      "   playerID  yearID teamID  HR\n",
      "1  canoro01    2016    SEA  39\n",
      "2  cruzne02    2016    SEA  43\n",
      "4  cruzne02    2017    SEA  39\n",
      "\n"
     ]
    }
   ],
   "source": [
    "cruzne02 = df[df['playerID'] == 'cruzne02']\n",
    "print('{}\\n'.format(cruzne02))\n",
    "\n",
    "hr40 = df[df['HR'] > 40]\n",
    "print('{}\\n'.format(hr40))\n",
    "\n",
    "notbos = df[df['teamID'] != 'BOS']\n",
    "print('{}\\n'.format(notbos))"
   ]
  },
  {
   "cell_type": "code",
   "execution_count": 277,
   "id": "e91d04df-faf6-4c13-b520-538aa50acd5d",
   "metadata": {},
   "outputs": [
    {
     "name": "stdout",
     "output_type": "stream",
     "text": [
      "    playerID  yearID teamID  HR\n",
      "0  bettsmo01    2016    BOS  31\n",
      "1   canoro01    2016    SEA  39\n",
      "2   cruzne02    2016    SEA  43\n",
      "3  ortizda01    2016    BOS  38\n",
      "4   cruzne02    2017    SEA  39\n",
      "\n"
     ]
    }
   ],
   "source": [
    "df = pd.DataFrame({\n",
    "  'playerID': ['bettsmo01', 'canoro01', 'cruzne02', 'ortizda01', 'cruzne02'],\n",
    "  'yearID': [2016, 2016, 2016, 2016, 2017],\n",
    "  'teamID': ['BOS', 'SEA', 'SEA', 'BOS', 'SEA'],\n",
    "  'HR': [31, 39, 43, 38, 39]})\n",
    "  \n",
    "print('{}\\n'.format(df))\n"
   ]
  },
  {
   "cell_type": "code",
   "execution_count": 278,
   "id": "1b8b22b5-a4d1-4b1a-a461-70d370e18c4a",
   "metadata": {},
   "outputs": [
    {
     "name": "stdout",
     "output_type": "stream",
     "text": [
      "0    False\n",
      "1     True\n",
      "2     True\n",
      "3    False\n",
      "4     True\n",
      "Name: playerID, dtype: bool\n",
      "\n",
      "0     True\n",
      "1    False\n",
      "2    False\n",
      "3     True\n",
      "4    False\n",
      "Name: teamID, dtype: bool\n",
      "\n",
      "0    False\n",
      "1    False\n",
      "2     True\n",
      "3    False\n",
      "4     True\n",
      "Name: playerID, dtype: bool\n",
      "\n"
     ]
    }
   ],
   "source": [
    "\n",
    "str_f1 = df['playerID'].str.startswith('c')\n",
    "print('{}\\n'.format(str_f1))\n",
    "\n",
    "str_f2 = df['teamID'].str.endswith('S')\n",
    "print('{}\\n'.format(str_f2))\n",
    "\n",
    "str_f3 = ~df['playerID'].str.contains('o')\n",
    "print('{}\\n'.format(str_f3))"
   ]
  },
  {
   "cell_type": "code",
   "execution_count": 279,
   "id": "0105993b-5472-4337-9f1c-9cb031ffdae9",
   "metadata": {},
   "outputs": [
    {
     "name": "stdout",
     "output_type": "stream",
     "text": [
      "   playerID  yearID teamID  HR\n",
      "1  canoro01    2016    SEA  39\n",
      "2  cruzne02    2016    SEA  43\n",
      "4  cruzne02    2017    SEA  39\n",
      "\n",
      "    playerID  yearID teamID  HR\n",
      "0  bettsmo01    2016    BOS  31\n",
      "3  ortizda01    2016    BOS  38\n",
      "\n",
      "   playerID  yearID teamID  HR\n",
      "2  cruzne02    2016    SEA  43\n",
      "4  cruzne02    2017    SEA  39\n",
      "\n"
     ]
    }
   ],
   "source": [
    "str_f1 = df[df['playerID'].str.startswith('c')]\n",
    "print('{}\\n'.format(str_f1))\n",
    "\n",
    "str_f2 = df[df['teamID'].str.endswith('S')]\n",
    "print('{}\\n'.format(str_f2))\n",
    "\n",
    "str_f3 = df[~df['playerID'].str.contains('o')]\n",
    "print('{}\\n'.format(str_f3))"
   ]
  },
  {
   "cell_type": "code",
   "execution_count": 281,
   "id": "1245acc7-0015-4368-8101-0a8b91a15467",
   "metadata": {},
   "outputs": [
    {
     "name": "stdout",
     "output_type": "stream",
     "text": [
      "0    False\n",
      "1    False\n",
      "2     True\n",
      "3     True\n",
      "4     True\n",
      "Name: playerID, dtype: bool\n",
      "\n",
      "0    False\n",
      "1    False\n",
      "2    False\n",
      "3    False\n",
      "4     True\n",
      "Name: yearID, dtype: bool\n",
      "\n"
     ]
    }
   ],
   "source": [
    "\n",
    "\n",
    "isin_f1 = df['playerID'].isin(['cruzne02',\n",
    "                               'ortizda01'])\n",
    "print('{}\\n'.format(isin_f1))\n",
    "\n",
    "isin_f2 = df['yearID'].isin([2015, 2017])\n",
    "print('{}\\n'.format(isin_f2))"
   ]
  },
  {
   "cell_type": "code",
   "execution_count": 282,
   "id": "c3e3de88-0e13-4ab8-91e6-0e2a69bf3cb2",
   "metadata": {},
   "outputs": [
    {
     "name": "stdout",
     "output_type": "stream",
     "text": [
      "    playerID  yearID teamID  HR\n",
      "2   cruzne02    2016    SEA  43\n",
      "3  ortizda01    2016    BOS  38\n",
      "4   cruzne02    2017    SEA  39\n",
      "\n",
      "   playerID  yearID teamID  HR\n",
      "4  cruzne02    2017    SEA  39\n",
      "\n"
     ]
    }
   ],
   "source": [
    "\n",
    "isin_f1 = df[df['playerID'].isin(['cruzne02',\n",
    "                               'ortizda01'])]\n",
    "print('{}\\n'.format(isin_f1))\n",
    "\n",
    "isin_f2 = df[df['yearID'].isin([2015, 2017])]\n",
    "print('{}\\n'.format(isin_f2))"
   ]
  },
  {
   "cell_type": "code",
   "execution_count": 285,
   "id": "ca2c480b-b842-437e-83d3-80844c4ea093",
   "metadata": {},
   "outputs": [
    {
     "name": "stdout",
     "output_type": "stream",
     "text": [
      "    playerID  yearID teamID  HR\n",
      "0  bettsmo01    2016    BOS  31\n",
      "1   canoro01    2016    SEA  39\n",
      "2    doejo01    2017    NaN  99\n",
      "\n",
      "0    False\n",
      "1    False\n",
      "2     True\n",
      "Name: teamID, dtype: bool\n",
      "\n",
      "0     True\n",
      "1     True\n",
      "2    False\n",
      "Name: teamID, dtype: bool\n",
      "\n"
     ]
    }
   ],
   "source": [
    "df = pd.DataFrame({\n",
    "  'playerID': ['bettsmo01', 'canoro01', 'doejo01'],\n",
    "  'yearID': [2016, 2016, 2017],\n",
    "  'teamID': ['BOS', 'SEA', np.nan],\n",
    "  'HR': [31, 39, 99]})\n",
    "  \n",
    "print('{}\\n'.format(df))\n",
    "isna = df['teamID'].isna()\n",
    "print('{}\\n'.format(isna))\n",
    "\n",
    "notna = df['teamID'].notna()\n",
    "print('{}\\n'.format(notna))"
   ]
  },
  {
   "cell_type": "code",
   "execution_count": 286,
   "id": "c5946069-68ee-4d4f-b6ce-af2d2dc77f93",
   "metadata": {},
   "outputs": [
    {
     "name": "stdout",
     "output_type": "stream",
     "text": [
      "  playerID  yearID teamID  HR\n",
      "2  doejo01    2017    NaN  99\n",
      "\n",
      "    playerID  yearID teamID  HR\n",
      "0  bettsmo01    2016    BOS  31\n",
      "1   canoro01    2016    SEA  39\n",
      "\n"
     ]
    }
   ],
   "source": [
    "isna = df[df['teamID'].isna()]\n",
    "print('{}\\n'.format(isna))\n",
    "\n",
    "notna = df[df['teamID'].notna()]\n",
    "print('{}\\n'.format(notna))"
   ]
  },
  {
   "cell_type": "markdown",
   "id": "4b426081-cc16-4afd-951a-ea6fc740ae4d",
   "metadata": {},
   "source": [
    "## Sorting"
   ]
  },
  {
   "cell_type": "code",
   "execution_count": 287,
   "id": "541557e3-fd28-4d08-aa94-45ca665ccea0",
   "metadata": {},
   "outputs": [
    {
     "name": "stdout",
     "output_type": "stream",
     "text": [
      "    playerID  yearID teamID  HR\n",
      "0  bettsmo01    2016    BOS  31\n",
      "1   canoro01    2016    SEA  39\n",
      "2    doejo01    2017    NaN  99\n",
      "\n",
      "    playerID  yearID teamID  HR\n",
      "2    doejo01    2017    NaN  99\n",
      "1   canoro01    2016    SEA  39\n",
      "0  bettsmo01    2016    BOS  31\n",
      "\n"
     ]
    }
   ],
   "source": [
    "sort1 = df.sort_values('yearID')\n",
    "print('{}\\n'.format(sort1))\n",
    "\n",
    "sort2 = df.sort_values('playerID', ascending=False)\n",
    "print('{}\\n'.format(sort2))"
   ]
  },
  {
   "cell_type": "code",
   "execution_count": 288,
   "id": "d76a9677-4596-4624-874e-ba7f879556ef",
   "metadata": {},
   "outputs": [
    {
     "name": "stdout",
     "output_type": "stream",
     "text": [
      "    playerID  yearID teamID  HR\n",
      "0  bettsmo01    2016    BOS  31\n",
      "1   canoro01    2016    SEA  39\n",
      "2    doejo01    2017    NaN  99\n",
      "\n",
      "    playerID  yearID teamID  HR\n",
      "1   canoro01    2016    SEA  39\n",
      "0  bettsmo01    2016    BOS  31\n",
      "2    doejo01    2017    NaN  99\n",
      "\n"
     ]
    }
   ],
   "source": [
    "sort1 = df.sort_values(['yearID', 'playerID'])\n",
    "print('{}\\n'.format(sort1))\n",
    "\n",
    "sort2 = df.sort_values(['yearID', 'HR'],\n",
    "                       ascending=[True, False])\n",
    "print('{}\\n'.format(sort2))"
   ]
  },
  {
   "cell_type": "code",
   "execution_count": null,
   "id": "da815a7e-90be-4dab-84fa-61f3aa9a3aab",
   "metadata": {},
   "outputs": [],
   "source": []
  }
 ],
 "metadata": {
  "kernelspec": {
   "display_name": "Python 3 (ipykernel)",
   "language": "python",
   "name": "python3"
  },
  "language_info": {
   "codemirror_mode": {
    "name": "ipython",
    "version": 3
   },
   "file_extension": ".py",
   "mimetype": "text/x-python",
   "name": "python",
   "nbconvert_exporter": "python",
   "pygments_lexer": "ipython3",
   "version": "3.11.7"
  }
 },
 "nbformat": 4,
 "nbformat_minor": 5
}
